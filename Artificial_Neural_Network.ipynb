{
  "nbformat": 4,
  "nbformat_minor": 0,
  "metadata": {
    "colab": {
      "provenance": [],
      "gpuType": "T4",
      "authorship_tag": "ABX9TyM5e1F1ENNoM+601n9E9FoU",
      "include_colab_link": true
    },
    "kernelspec": {
      "name": "python3",
      "display_name": "Python 3"
    },
    "language_info": {
      "name": "python"
    },
    "accelerator": "GPU"
  },
  "cells": [
    {
      "cell_type": "markdown",
      "metadata": {
        "id": "view-in-github",
        "colab_type": "text"
      },
      "source": [
        "<a href=\"https://colab.research.google.com/github/KunalRoutray/Deep-Learning/blob/main/Artificial_Neural_Network.ipynb\" target=\"_parent\"><img src=\"https://colab.research.google.com/assets/colab-badge.svg\" alt=\"Open In Colab\"/></a>"
      ]
    },
    {
      "cell_type": "code",
      "execution_count": 5,
      "metadata": {
        "id": "ovu0g8Bt7HwX"
      },
      "outputs": [],
      "source": [
        "#import required libraries\n",
        "import numpy as np"
      ]
    },
    {
      "cell_type": "code",
      "source": [
        "def sigmoid(z):\n",
        "  return 1/(1+np.exp(-z))\n",
        "def sigmoid_derivative(z):\n",
        "  return z*(1-z)"
      ],
      "metadata": {
        "id": "k9DJFaPk7nxQ"
      },
      "execution_count": 6,
      "outputs": []
    },
    {
      "cell_type": "code",
      "source": [
        "class NN:\n",
        "  def __init__(self,input_size,hidden_size,output_size):\n",
        "    #initialise weights\n",
        "    self.weights_input_hidden=np.random.rand(input_size,hidden_size)\n",
        "    self.weights_hidden_output=np.random.rand(hidden_size,output_size)\n",
        "    #initialise biases\n",
        "    self.bias_hidden=np.random.rand((hidden_size))\n",
        "    self.bias_output=np.random.rand((output_size))\n",
        "\n",
        "  def feedforward(self,X):\n",
        "     #hidden layer\n",
        "     self.hidden_layer_input=np.dot(X,self.weights_input_hidden)+self.bias_hidden\n",
        "     self.hidden_layer_output=sigmoid(self.hidden_layer_input)\n",
        "     #output layer\n",
        "     self.output_layer_input=np.dot(self.hidden_layer_output,self.weights_hidden_output)+self.bias_output\n",
        "     self.output=sigmoid(self.output_layer_input)\n",
        "     return self.output\n",
        "\n",
        "  def backpropagation(self,X,y,learning_rate):\n",
        "     #calculate the error\n",
        "     output_error=self.output-y\n",
        "     output_delta=2*output_error*sigmoid_derivative(self.output)\n",
        "\n",
        "     hidden_error=output_delta.dot(self.weights_hidden_output.T)\n",
        "     hidden_delta=2*output_error*sigmoid_derivative(self.hidden_layer_output)\n",
        "\n",
        "     #update weights and biases\n",
        "     self.weights_hidden_output -= self.hidden_layer_output.T.dot(output_delta)*learning_rate\n",
        "     self.bias_output-= np.sum(output_delta,axis=0)*learning_rate\n",
        "\n",
        "     self.weights_input_hidden -= X.T.dot(hidden_delta)*learning_rate\n",
        "     self.bias_hidden-= np.sum(hidden_delta,axis=0)*learning_rate\n",
        "\n",
        "  def train(self,X,y,epochs,learning_rate):\n",
        "    for epoch in range(1,epochs):\n",
        "      self.feedforward(X)\n",
        "      self.backpropagation(X,y,learning_rate)\n",
        "      if epoch% 1000 == 0:\n",
        "        loss=np.mean(np.square(y-self.output))\n",
        "        print(f'Epoch {epoch}, Loss {loss}')"
      ],
      "metadata": {
        "id": "lo7mXFLo7n6i"
      },
      "execution_count": 7,
      "outputs": []
    },
    {
      "cell_type": "code",
      "source": [
        "if __name__ =='__main__':\n",
        "  X=np.array([[0,0],[0,1],[1,0],[1,1]])\n",
        "  y=np.array([[0],[1],[1],[0]])\n",
        "\n",
        "\n",
        "  nn=NN(input_size=2,hidden_size=4,output_size=1)\n",
        "\n",
        "  nn.train(X, y, epochs=10000, learning_rate=0.1)\n",
        "  nn.feedforward(X)\n",
        "\n",
        "  print('\\nFinal Probabilities')\n",
        "  print(nn.output)\n",
        ""
      ],
      "metadata": {
        "colab": {
          "base_uri": "https://localhost:8080/"
        },
        "id": "NSWFYtH57oAl",
        "outputId": "4052da37-556f-4fb5-ce45-eb8bc52ed19e"
      },
      "execution_count": 8,
      "outputs": [
        {
          "output_type": "stream",
          "name": "stdout",
          "text": [
            "Epoch 1000, Loss 0.04508598689883128\n",
            "Epoch 2000, Loss 0.006009266478664283\n",
            "Epoch 3000, Loss 0.0027840903874326245\n",
            "Epoch 4000, Loss 0.0017524998689471538\n",
            "Epoch 5000, Loss 0.001262159963333882\n",
            "Epoch 6000, Loss 0.0009798974542795007\n",
            "Epoch 7000, Loss 0.0007979049340105834\n",
            "Epoch 8000, Loss 0.0006714189486732743\n",
            "Epoch 9000, Loss 0.000578695440324037\n",
            "\n",
            "Final Probabilities\n",
            "[[0.01482616]\n",
            " [0.97561008]\n",
            " [0.98265312]\n",
            " [0.03026951]]\n"
          ]
        }
      ]
    }
  ]
}